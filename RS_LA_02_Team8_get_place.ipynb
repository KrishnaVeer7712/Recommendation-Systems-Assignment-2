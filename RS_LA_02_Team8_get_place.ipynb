{
  "nbformat": 4,
  "nbformat_minor": 0,
  "metadata": {
    "colab": {
      "provenance": []
    },
    "kernelspec": {
      "name": "python3",
      "display_name": "Python 3"
    },
    "language_info": {
      "name": "python"
    }
  },
  "cells": [
    {
      "cell_type": "code",
      "execution_count": 1,
      "metadata": {
        "id": "oaHi54eCkvtL"
      },
      "outputs": [],
      "source": [
        "from sklearn.preprocessing import StandardScaler\n",
        "import matplotlib.pyplot as plt \n",
        "import numpy as np \n",
        "import os \n",
        "import pandas as pd\n",
        "import nltk\n",
        "import seaborn as sns\n",
        "import warnings\n",
        "from textblob import TextBlob\n",
        "import os\n",
        "import json\n",
        "import gzip\n",
        "import ast"
      ]
    },
    {
      "cell_type": "code",
      "source": [
        "from google.colab import drive\n",
        "drive.mount('/content/gdrive')"
      ],
      "metadata": {
        "colab": {
          "base_uri": "https://localhost:8080/"
        },
        "id": "VpllWNIkk2p4",
        "outputId": "238fd1e9-79d4-4bab-afef-fe32ce9d7fa4"
      },
      "execution_count": 2,
      "outputs": [
        {
          "output_type": "stream",
          "name": "stdout",
          "text": [
            "Mounted at /content/gdrive\n"
          ]
        }
      ]
    },
    {
      "cell_type": "code",
      "source": [
        "place_df = pd.read_csv('/content/gdrive/Shareddrives/RS/LA02/Places/Final_places.csv', sep=',', engine='python')"
      ],
      "metadata": {
        "id": "RcX6fxi-k489"
      },
      "execution_count": 3,
      "outputs": []
    },
    {
      "cell_type": "code",
      "source": [
        "place_df.head()"
      ],
      "metadata": {
        "colab": {
          "base_uri": "https://localhost:8080/",
          "height": 440
        },
        "id": "XFhjYMctlJ4c",
        "outputId": "68a53044-e2f5-42fe-dc4f-3baaf2b85f73"
      },
      "execution_count": 5,
      "outputs": [
        {
          "output_type": "execute_result",
          "data": {
            "text/plain": [
              "   Unnamed: 0  Unnamed: 0.1                          name  \\\n",
              "0           0             0    Diamond Valley Lake Marina   \n",
              "1           1             2                     Portofino   \n",
              "2           2             3      T C's Referee Sports Bar   \n",
              "3           3             4  Carrefour - Palembang Square   \n",
              "4           4             9                   Old Chicago   \n",
              "\n",
              "                                             address  \\\n",
              "0             ['2615 Angler Ave', 'Hemet, CA 92545']   \n",
              "1  ['ул. Тутаева, 1', 'Nazran, Ingushetia, Russia...   \n",
              "2        ['5322 W 26th St', 'Sioux Falls, SD 57106']   \n",
              "3  ['Jl. Angkatan 45', 'Kompleks Palembang Square...   \n",
              "4  ['17960 NW Evergreen Pkwy', 'Beaverton, OR 970...   \n",
              "\n",
              "                                               hours              phone  \\\n",
              "0  [['Monday', [['6:30 am--4:15 pm']]], ['Tuesday...     (951) 926-7201   \n",
              "1  [['Monday', [['9:30 am--9:00 pm']]], ['Tuesday...  8 (963) 173-38-38   \n",
              "2  [['Monday', [['11:00 am--10:00 pm']]], ['Tuesd...     (605) 361-2208   \n",
              "3  [['Monday', [['8:00 am--9:00 pm']]], ['Tuesday...      (0711) 359918   \n",
              "4  [['Monday', [['11:00 am--1:00 am']]], ['Tuesda...     (503) 533-4650   \n",
              "\n",
              "   closed           gPlusPlaceId                       gps  \n",
              "0   False  104699454385822125632  [33.703804, -117.003209]  \n",
              "1   False  109810290098030327104     [43.22776, 44.762726]  \n",
              "2   False  100327153115986850675   [43.529494, -96.792244]  \n",
              "3   False  103368487323937936043   [-2.976256, 104.742662]  \n",
              "4   False  118222137795476771294  [45.535176, -122.862242]  "
            ],
            "text/html": [
              "\n",
              "  <div id=\"df-fcf8ab22-46d4-4f1d-826d-e17f9e1a6949\">\n",
              "    <div class=\"colab-df-container\">\n",
              "      <div>\n",
              "<style scoped>\n",
              "    .dataframe tbody tr th:only-of-type {\n",
              "        vertical-align: middle;\n",
              "    }\n",
              "\n",
              "    .dataframe tbody tr th {\n",
              "        vertical-align: top;\n",
              "    }\n",
              "\n",
              "    .dataframe thead th {\n",
              "        text-align: right;\n",
              "    }\n",
              "</style>\n",
              "<table border=\"1\" class=\"dataframe\">\n",
              "  <thead>\n",
              "    <tr style=\"text-align: right;\">\n",
              "      <th></th>\n",
              "      <th>Unnamed: 0</th>\n",
              "      <th>Unnamed: 0.1</th>\n",
              "      <th>name</th>\n",
              "      <th>address</th>\n",
              "      <th>hours</th>\n",
              "      <th>phone</th>\n",
              "      <th>closed</th>\n",
              "      <th>gPlusPlaceId</th>\n",
              "      <th>gps</th>\n",
              "    </tr>\n",
              "  </thead>\n",
              "  <tbody>\n",
              "    <tr>\n",
              "      <th>0</th>\n",
              "      <td>0</td>\n",
              "      <td>0</td>\n",
              "      <td>Diamond Valley Lake Marina</td>\n",
              "      <td>['2615 Angler Ave', 'Hemet, CA 92545']</td>\n",
              "      <td>[['Monday', [['6:30 am--4:15 pm']]], ['Tuesday...</td>\n",
              "      <td>(951) 926-7201</td>\n",
              "      <td>False</td>\n",
              "      <td>104699454385822125632</td>\n",
              "      <td>[33.703804, -117.003209]</td>\n",
              "    </tr>\n",
              "    <tr>\n",
              "      <th>1</th>\n",
              "      <td>1</td>\n",
              "      <td>2</td>\n",
              "      <td>Portofino</td>\n",
              "      <td>['ул. Тутаева, 1', 'Nazran, Ingushetia, Russia...</td>\n",
              "      <td>[['Monday', [['9:30 am--9:00 pm']]], ['Tuesday...</td>\n",
              "      <td>8 (963) 173-38-38</td>\n",
              "      <td>False</td>\n",
              "      <td>109810290098030327104</td>\n",
              "      <td>[43.22776, 44.762726]</td>\n",
              "    </tr>\n",
              "    <tr>\n",
              "      <th>2</th>\n",
              "      <td>2</td>\n",
              "      <td>3</td>\n",
              "      <td>T C's Referee Sports Bar</td>\n",
              "      <td>['5322 W 26th St', 'Sioux Falls, SD 57106']</td>\n",
              "      <td>[['Monday', [['11:00 am--10:00 pm']]], ['Tuesd...</td>\n",
              "      <td>(605) 361-2208</td>\n",
              "      <td>False</td>\n",
              "      <td>100327153115986850675</td>\n",
              "      <td>[43.529494, -96.792244]</td>\n",
              "    </tr>\n",
              "    <tr>\n",
              "      <th>3</th>\n",
              "      <td>3</td>\n",
              "      <td>4</td>\n",
              "      <td>Carrefour - Palembang Square</td>\n",
              "      <td>['Jl. Angkatan 45', 'Kompleks Palembang Square...</td>\n",
              "      <td>[['Monday', [['8:00 am--9:00 pm']]], ['Tuesday...</td>\n",
              "      <td>(0711) 359918</td>\n",
              "      <td>False</td>\n",
              "      <td>103368487323937936043</td>\n",
              "      <td>[-2.976256, 104.742662]</td>\n",
              "    </tr>\n",
              "    <tr>\n",
              "      <th>4</th>\n",
              "      <td>4</td>\n",
              "      <td>9</td>\n",
              "      <td>Old Chicago</td>\n",
              "      <td>['17960 NW Evergreen Pkwy', 'Beaverton, OR 970...</td>\n",
              "      <td>[['Monday', [['11:00 am--1:00 am']]], ['Tuesda...</td>\n",
              "      <td>(503) 533-4650</td>\n",
              "      <td>False</td>\n",
              "      <td>118222137795476771294</td>\n",
              "      <td>[45.535176, -122.862242]</td>\n",
              "    </tr>\n",
              "  </tbody>\n",
              "</table>\n",
              "</div>\n",
              "      <button class=\"colab-df-convert\" onclick=\"convertToInteractive('df-fcf8ab22-46d4-4f1d-826d-e17f9e1a6949')\"\n",
              "              title=\"Convert this dataframe to an interactive table.\"\n",
              "              style=\"display:none;\">\n",
              "        \n",
              "  <svg xmlns=\"http://www.w3.org/2000/svg\" height=\"24px\"viewBox=\"0 0 24 24\"\n",
              "       width=\"24px\">\n",
              "    <path d=\"M0 0h24v24H0V0z\" fill=\"none\"/>\n",
              "    <path d=\"M18.56 5.44l.94 2.06.94-2.06 2.06-.94-2.06-.94-.94-2.06-.94 2.06-2.06.94zm-11 1L8.5 8.5l.94-2.06 2.06-.94-2.06-.94L8.5 2.5l-.94 2.06-2.06.94zm10 10l.94 2.06.94-2.06 2.06-.94-2.06-.94-.94-2.06-.94 2.06-2.06.94z\"/><path d=\"M17.41 7.96l-1.37-1.37c-.4-.4-.92-.59-1.43-.59-.52 0-1.04.2-1.43.59L10.3 9.45l-7.72 7.72c-.78.78-.78 2.05 0 2.83L4 21.41c.39.39.9.59 1.41.59.51 0 1.02-.2 1.41-.59l7.78-7.78 2.81-2.81c.8-.78.8-2.07 0-2.86zM5.41 20L4 18.59l7.72-7.72 1.47 1.35L5.41 20z\"/>\n",
              "  </svg>\n",
              "      </button>\n",
              "      \n",
              "  <style>\n",
              "    .colab-df-container {\n",
              "      display:flex;\n",
              "      flex-wrap:wrap;\n",
              "      gap: 12px;\n",
              "    }\n",
              "\n",
              "    .colab-df-convert {\n",
              "      background-color: #E8F0FE;\n",
              "      border: none;\n",
              "      border-radius: 50%;\n",
              "      cursor: pointer;\n",
              "      display: none;\n",
              "      fill: #1967D2;\n",
              "      height: 32px;\n",
              "      padding: 0 0 0 0;\n",
              "      width: 32px;\n",
              "    }\n",
              "\n",
              "    .colab-df-convert:hover {\n",
              "      background-color: #E2EBFA;\n",
              "      box-shadow: 0px 1px 2px rgba(60, 64, 67, 0.3), 0px 1px 3px 1px rgba(60, 64, 67, 0.15);\n",
              "      fill: #174EA6;\n",
              "    }\n",
              "\n",
              "    [theme=dark] .colab-df-convert {\n",
              "      background-color: #3B4455;\n",
              "      fill: #D2E3FC;\n",
              "    }\n",
              "\n",
              "    [theme=dark] .colab-df-convert:hover {\n",
              "      background-color: #434B5C;\n",
              "      box-shadow: 0px 1px 3px 1px rgba(0, 0, 0, 0.15);\n",
              "      filter: drop-shadow(0px 1px 2px rgba(0, 0, 0, 0.3));\n",
              "      fill: #FFFFFF;\n",
              "    }\n",
              "  </style>\n",
              "\n",
              "      <script>\n",
              "        const buttonEl =\n",
              "          document.querySelector('#df-fcf8ab22-46d4-4f1d-826d-e17f9e1a6949 button.colab-df-convert');\n",
              "        buttonEl.style.display =\n",
              "          google.colab.kernel.accessAllowed ? 'block' : 'none';\n",
              "\n",
              "        async function convertToInteractive(key) {\n",
              "          const element = document.querySelector('#df-fcf8ab22-46d4-4f1d-826d-e17f9e1a6949');\n",
              "          const dataTable =\n",
              "            await google.colab.kernel.invokeFunction('convertToInteractive',\n",
              "                                                     [key], {});\n",
              "          if (!dataTable) return;\n",
              "\n",
              "          const docLinkHtml = 'Like what you see? Visit the ' +\n",
              "            '<a target=\"_blank\" href=https://colab.research.google.com/notebooks/data_table.ipynb>data table notebook</a>'\n",
              "            + ' to learn more about interactive tables.';\n",
              "          element.innerHTML = '';\n",
              "          dataTable['output_type'] = 'display_data';\n",
              "          await google.colab.output.renderOutput(dataTable, element);\n",
              "          const docLink = document.createElement('div');\n",
              "          docLink.innerHTML = docLinkHtml;\n",
              "          element.appendChild(docLink);\n",
              "        }\n",
              "      </script>\n",
              "    </div>\n",
              "  </div>\n",
              "  "
            ]
          },
          "metadata": {},
          "execution_count": 5
        }
      ]
    },
    {
      "cell_type": "code",
      "source": [
        "places_name=place_df[['gPlusPlaceId', 'name']]"
      ],
      "metadata": {
        "id": "6dwucD1ynXqM"
      },
      "execution_count": 14,
      "outputs": []
    },
    {
      "cell_type": "code",
      "source": [
        "places_name.to_csv(\"/content/gdrive/Shareddrives/RS/LA02/places_name.csv\")"
      ],
      "metadata": {
        "id": "8GgawHQTnp2n"
      },
      "execution_count": 17,
      "outputs": []
    },
    {
      "cell_type": "code",
      "source": [
        "places_name.shape"
      ],
      "metadata": {
        "colab": {
          "base_uri": "https://localhost:8080/"
        },
        "id": "dnmvKgOtn56Y",
        "outputId": "c88e4830-d404-49cf-bbcf-55e0b7706e9b"
      },
      "execution_count": 18,
      "outputs": [
        {
          "output_type": "execute_result",
          "data": {
            "text/plain": [
              "(1294778, 2)"
            ]
          },
          "metadata": {},
          "execution_count": 18
        }
      ]
    }
  ]
}