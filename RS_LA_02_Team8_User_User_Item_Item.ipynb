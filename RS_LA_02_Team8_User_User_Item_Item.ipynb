{
  "nbformat": 4,
  "nbformat_minor": 0,
  "metadata": {
    "colab": {
      "provenance": []
    },
    "kernelspec": {
      "name": "python3",
      "display_name": "Python 3"
    },
    "language_info": {
      "name": "python"
    }
  },
  "cells": [
    {
      "cell_type": "code",
      "execution_count": null,
      "metadata": {
        "id": "AXdUW0iosi5V"
      },
      "outputs": [],
      "source": [
        "from sklearn.preprocessing import StandardScaler\n",
        "import matplotlib.pyplot as plt \n",
        "import numpy as np \n",
        "import os \n",
        "import pandas as pd\n",
        "import nltk\n",
        "import seaborn as sns\n",
        "import warnings\n",
        "from textblob import TextBlob\n",
        "import os\n",
        "import json\n",
        "import gzip\n",
        "import ast"
      ]
    },
    {
      "cell_type": "code",
      "source": [
        "from google.colab import drive\n",
        "drive.mount('/content/gdrive')"
      ],
      "metadata": {
        "id": "XUqTbGYxZxLn"
      },
      "execution_count": null,
      "outputs": []
    },
    {
      "cell_type": "code",
      "source": [
        "toy_df = pd.read_csv('/content/gdrive/Shareddrives/RS/LA02/toyset_supermarket.csv', sep=',', engine='python')"
      ],
      "metadata": {
        "id": "QhlvO40ks73x"
      },
      "execution_count": null,
      "outputs": []
    },
    {
      "cell_type": "code",
      "source": [
        "toy_df=toy_df.drop(['Unnamed: 0', 'Unnamed: 0.1', 'Unnamed: 0.1.1'], axis=1)"
      ],
      "metadata": {
        "id": "FhFANkkv38uP"
      },
      "execution_count": null,
      "outputs": []
    },
    {
      "cell_type": "code",
      "source": [
        "toy_df.head()"
      ],
      "metadata": {
        "id": "5gbECFj9M5Np"
      },
      "execution_count": null,
      "outputs": []
    },
    {
      "cell_type": "code",
      "source": [
        "toy_df['gPlusUserId'].nunique()"
      ],
      "metadata": {
        "id": "uuMijKWoOr8W"
      },
      "execution_count": null,
      "outputs": []
    },
    {
      "cell_type": "code",
      "source": [
        "toy_df['rating'].value_counts()"
      ],
      "metadata": {
        "id": "PihERDgtPDQI"
      },
      "execution_count": null,
      "outputs": []
    },
    {
      "cell_type": "code",
      "source": [
        "rating_mat = toy_df.pivot(index=\"gPlusUserId\", columns=\"gPlusPlaceId\", values=\"rating\").fillna(0)"
      ],
      "metadata": {
        "id": "GPpQ0qFBUzUa"
      },
      "execution_count": null,
      "outputs": []
    },
    {
      "cell_type": "code",
      "source": [
        "rating_mat"
      ],
      "metadata": {
        "id": "YRQPSKafX4TH"
      },
      "execution_count": null,
      "outputs": []
    },
    {
      "cell_type": "markdown",
      "source": [
        "#User-User collaborative"
      ],
      "metadata": {
        "id": "Moxv6B5KDgea"
      }
    },
    {
      "cell_type": "code",
      "source": [
        "user_item_matrix = toy_df.pivot(index=\"gPlusUserId\", columns=\"gPlusPlaceId\", values=\"rating\")"
      ],
      "metadata": {
        "id": "srhcmnYE--WT"
      },
      "execution_count": null,
      "outputs": []
    },
    {
      "cell_type": "code",
      "source": [
        "user_item_matrix"
      ],
      "metadata": {
        "id": "Zflkyugj_tY7"
      },
      "execution_count": null,
      "outputs": []
    },
    {
      "cell_type": "code",
      "source": [
        "# Normalize user-item matrix\n",
        "matrix_norm = user_item_matrix.subtract(user_item_matrix.mean(axis=1), axis = 'rows')\n",
        "user_item_matrix.head()"
      ],
      "metadata": {
        "id": "xbckfEOY_2LI"
      },
      "execution_count": null,
      "outputs": []
    },
    {
      "cell_type": "code",
      "source": [
        "# User similarity matrix using Pearson correlation\n",
        "user_similarity = matrix_norm.T.corr()\n",
        "user_similarity.head()"
      ],
      "metadata": {
        "id": "UcH_QhoGGEwN"
      },
      "execution_count": null,
      "outputs": []
    },
    {
      "cell_type": "code",
      "source": [
        "user_similarity_cosine = cosine_similarity(matrix_norm.fillna(0))\n",
        "user_similarity_cosine"
      ],
      "metadata": {
        "id": "4eXlUbQcFw79"
      },
      "execution_count": null,
      "outputs": []
    },
    {
      "cell_type": "code",
      "source": [
        "picked_userid = 100000996709496791884\n",
        "# Remove picked user ID from the candidate list\n",
        "user_similarity.drop(index=picked_userid, inplace=True)\n",
        "# Take a look at the data\n",
        "user_similarity.head()"
      ],
      "metadata": {
        "id": "qV_gBS8UF3EX"
      },
      "execution_count": null,
      "outputs": []
    },
    {
      "cell_type": "code",
      "source": [
        "# Number of similar users\n",
        "n = 10\n",
        "# User similarity threashold\n",
        "user_similarity_threshold = 0.3\n",
        "# Get top n similar users\n",
        "similar_users = user_similarity[user_similarity[picked_userid]>user_similarity_threshold][picked_userid].sort_values(ascending=False)[:n]\n",
        "# Print out top n similar users\n",
        "print(f'The similar users for user {picked_userid} are', similar_users)"
      ],
      "metadata": {
        "id": "EfytD8iXGh1M"
      },
      "execution_count": null,
      "outputs": []
    },
    {
      "cell_type": "markdown",
      "source": [
        "#Item-Item collaborative filtering"
      ],
      "metadata": {
        "id": "3_dUkKRHIvIX"
      }
    },
    {
      "cell_type": "code",
      "source": [
        "rating_matrix = toy_df.pivot_table(index='gPlusUserId', columns='gPlusPlaceId', values='rating')\n",
        "# replace NaN values with 0\n",
        "rating_matrix = rating_matrix.fillna(0)\n",
        "# display the top few rows\n",
        "rating_matrix.head()"
      ],
      "metadata": {
        "id": "6mAFX3UEJc3L"
      },
      "execution_count": null,
      "outputs": []
    },
    {
      "cell_type": "code",
      "source": [
        "# Read in data\n",
        "ratings=pd.read_csv('ml-latest-small/ratings.csv')\n",
        "# Take a look at the data\n",
        "ratings.head()"
      ],
      "metadata": {
        "id": "wBt-11yTJcQb"
      },
      "execution_count": null,
      "outputs": []
    },
    {
      "cell_type": "code",
      "source": [
        "# Normalize user-item matrix\n",
        "matrix_norm = ratings.subtract(ratings.mean(axis=1), axis = 'rows')\n",
        "ratings.head()"
      ],
      "metadata": {
        "id": "J_SQFGPvLw0B"
      },
      "execution_count": null,
      "outputs": []
    },
    {
      "cell_type": "code",
      "source": [
        "# User similarity matrix using Pearson correlation\n",
        "item_similarity = matrix_norm.T.corr()\n",
        "item_similarity.head()"
      ],
      "metadata": {
        "id": "6t1O6joYL_Rb"
      },
      "execution_count": null,
      "outputs": []
    },
    {
      "cell_type": "code",
      "source": [
        "item_similarity_cosine = cosine_similarity(matrix_norm.fillna(0))\n",
        "item_similarity_cosine"
      ],
      "metadata": {
        "id": "lXnpT12hL_Rb"
      },
      "execution_count": null,
      "outputs": []
    },
    {
      "cell_type": "code",
      "source": [
        "picked_userid = 100000007848517518160\n",
        "# Remove picked user ID from the candidate list\n",
        "item_similarity.drop(index=picked_userid, inplace=True)\n",
        "# Take a look at the data\n",
        "item_similarity.head()"
      ],
      "metadata": {
        "id": "b15Q0mX6L_Rc"
      },
      "execution_count": null,
      "outputs": []
    },
    {
      "cell_type": "code",
      "source": [
        "# Number of similar users\n",
        "n = 10\n",
        "# User similarity threashold\n",
        "item_similarity_threshold = 0.3\n",
        "# Get top n similar users\n",
        "similar_items = item_similarity[item_similarity[picked_userid]>item_similarity_threshold][picked_userid].sort_values(ascending=False)[:n]\n",
        "# Print out top n similar users\n",
        "print(f'The similar users for user {picked_userid} are', similar_items)"
      ],
      "metadata": {
        "id": "x3BBCEpOL_Rc"
      },
      "execution_count": null,
      "outputs": []
    }
  ]
}